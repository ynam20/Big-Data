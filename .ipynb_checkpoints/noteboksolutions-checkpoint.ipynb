{
 "cells": [
  {
   "cell_type": "markdown",
   "metadata": {},
   "source": [
    "> **DO NOT EDIT IF INSIDE `caobd_s19` folder** "
   ]
  },
  {
   "cell_type": "markdown",
   "metadata": {},
   "source": [
    "# Assignment 2"
   ]
  },
  {
   "cell_type": "markdown",
   "metadata": {},
   "source": [
    "**Handin in Peergrade**: *Wednesday*, March 13, 2019, 23:59<br>\n",
    "**Peergrading deadline**: *Wednesday*, March 20, 2019, 23:59<br>\n",
    "**Peergrading feedback deadline**: *Sunday*, March 23, 2019, 23:59"
   ]
  },
  {
   "cell_type": "markdown",
   "metadata": {},
   "source": [
    "[**Feedback**](http://ulfaslak.com/vent)"
   ]
  },
  {
   "cell_type": "markdown",
   "metadata": {},
   "source": [
    "## Problems"
   ]
  },
  {
   "cell_type": "markdown",
   "metadata": {},
   "source": [
    "### Week 4"
   ]
  },
  {
   "cell_type": "markdown",
   "metadata": {},
   "source": [
    "> **Ex. 4.3.2**: Implement cross validation. The performance of a classifier is strongly dependent on the amount of data it is trained on. In Ex. 4.3.1 you train it on only half of the data and test it on the other half. If you rerun that code multiple times, with random 50/50 partitions, you are gonna see a lot of uncertainty in performance. Cross validation solves this problem by training on a larger subset of the data and testing on a smaller one, and taking the average performance over K-folds of this process.\n",
    "1. Implement cross validation over $K=10$ folds. For each fold you must record the training and test accuracies. In the end, visualize the distributions of test- and training accuracy as histograms in the same plot. It's important that you comment on the result."
   ]
  },
  {
   "cell_type": "code",
   "execution_count": 3,
   "metadata": {},
   "outputs": [
    {
     "data": {
      "text/plain": [
       "['Avengers (comics)',\n",
       " 'United States Department of Defense',\n",
       " 'Force Works',\n",
       " 'The New Avengers (comics)',\n",
       " 'Guardians of the Galaxy (2008 team)',\n",
       " 'Illuminati (comics)',\n",
       " 'The Mighty Avengers',\n",
       " 'S.H.I.E.L.D.',\n",
       " 'Stark Industries',\n",
       " 'Stark Resilient',\n",
       " 'Thunderbolts (comics)']"
      ]
     },
     "execution_count": 3,
     "metadata": {},
     "output_type": "execute_result"
    }
   ],
   "source": [
    "import re, os\n",
    "\n",
    "def get_alliances(char, faction=None):\n",
    "    \"\"\"Return list of alliances for Marvel character.\"\"\"\n",
    "    \n",
    "    if faction is None:\n",
    "        for faction in [\"heroes\", \"ambiguous\", \"villains\"]:\n",
    "            faction_chars = [c[:-4] for c in os.listdir('/Users/ooganam/Desktop/bigdata/caobd_s19/data/%s' % faction)]\n",
    "            if char in faction_chars:\n",
    "                break\n",
    "    \n",
    "    # Load character markup\n",
    "    with open(\"/Users/ooganam/Desktop/bigdata/caobd_s19/data/%s/%s.txt\" % (faction, char)) as fp:\n",
    "        markup = fp.read()\n",
    "\n",
    "    # Get alliance field\n",
    "    alliances_field = re.findall(r\"alliances[\\w\\W]+?\\|.+=\", markup)\n",
    "    if alliances_field == []:\n",
    "        return []\n",
    "\n",
    "    # Extract teams from alliance field\n",
    "    return [t[2:-1] for t in re.findall(r\"\\[\\[.+?[\\]\\|]\", alliances_field[0][10:])]\n",
    "get_alliances(\"Iron Man\")"
   ]
  },
  {
   "cell_type": "code",
   "execution_count": null,
   "metadata": {},
   "outputs": [],
   "source": [
    "list = []\n",
    "target = []\n",
    "\n",
    "counter = 0\n",
    "nonamb = 0\n",
    "\n",
    "\n",
    "def sum(vector):\n",
    "    counter = 0\n",
    "    for i in vector:\n",
    "        counter += 1\n",
    "    return counter\n",
    "\n",
    "\n",
    "\n",
    "for faction in [\"heroes\", \"ambiguous\", \"villains\"]:\n",
    "    for filename in os.listdir('/Users/ooganam/Desktop/bigdata/caobd_s19/data/%s' % faction):\n",
    "        charname = filename[0:-4]\n",
    "        alliances = get_alliances(charname)\n",
    "        \n",
    "        if (sum(alliances) > 0):\n",
    "            target.append((charname, faction))\n",
    "        for i in get_alliances(charname):\n",
    "            list.append(i)    \n",
    "sortedlist = sorted(set(list))\n",
    "\n",
    "\n",
    "\n",
    "import numpy as np\n",
    "\n",
    "def alliancesvector(heroname):\n",
    "    \n",
    "    teams = get_alliances(heroname)\n",
    "    vector = np.zeros(len(sortedlist))\n",
    "    \n",
    "    for i in range(len(sortedlist)):\n",
    "        \n",
    "        if sortedlist[i] in teams:\n",
    "         \n",
    "            vector[i] = 1\n",
    "    return vector\n",
    "\n",
    "def sum(vector):\n",
    "    counter = 0\n",
    "    for i in vector:\n",
    "        counter += i\n",
    "    return counter\n",
    "    \n",
    "print(sum(alliancesvector(\"Iron Man\")))\n",
    "\n",
    "alliancematrix = []\n",
    "counter = 0        \n",
    "\n",
    "for i, j in target:\n",
    "    alliances = alliancesvector(i)\n",
    "    guard = sum(alliances) \n",
    "    if (guard > 0):\n",
    "        if (j != \"ambiguous\"):\n",
    "            alliancematrix.append(alliances)\n",
    "alliancematrix = np.array(alliancematrix)\n",
    "\n",
    "from sklearn.naive_bayes import BernoulliNB\n",
    "from sklearn.metrics import accuracy_score\n",
    "from sklearn.metrics import precision_recall_fscore_support\n",
    "\n",
    "model = BernoulliNB()\n",
    "removeambigs = [i for _,i in target if i != 'ambiguous']\n",
    "y_true = np.array([1 if j == 'heroes' else 0 for j in removeambigs])\n",
    "\n",
    "model.fit(alliancematrix, y_true)  # <--- This is the training/fitting/learning step\n",
    "y_preds = model.predict(alliancematrix)\n",
    "print(accuracy_score(y_true, y_preds))\n",
    "print(len(alliancematrix))\n",
    "\n",
    "\n",
    "print('precision', 'recall', 'fscore')\n",
    "for i in precision_recall_fscore_support(y_true, y_preds, average = None, labels = [1,0])[0:-1]:\n",
    "    print(i[0])\n",
    "\n"
   ]
  },
  {
   "cell_type": "code",
   "execution_count": 5,
   "metadata": {},
   "outputs": [
    {
     "ename": "NameError",
     "evalue": "name 'y_true' is not defined",
     "output_type": "error",
     "traceback": [
      "\u001b[0;31m---------------------------------------------------------------------------\u001b[0m",
      "\u001b[0;31mNameError\u001b[0m                                 Traceback (most recent call last)",
      "\u001b[0;32m<ipython-input-5-d1a5883345db>\u001b[0m in \u001b[0;36m<module>\u001b[0;34m\u001b[0m\n\u001b[1;32m     16\u001b[0m \u001b[0;32mfor\u001b[0m \u001b[0mk\u001b[0m \u001b[0;32min\u001b[0m \u001b[0mrange\u001b[0m \u001b[0;34m(\u001b[0m\u001b[0;36m0\u001b[0m\u001b[0;34m,\u001b[0m\u001b[0;36m10\u001b[0m\u001b[0;34m)\u001b[0m\u001b[0;34m:\u001b[0m\u001b[0;34m\u001b[0m\u001b[0;34m\u001b[0m\u001b[0m\n\u001b[1;32m     17\u001b[0m     \u001b[0mxtrain\u001b[0m\u001b[0;34m,\u001b[0m \u001b[0mxtest\u001b[0m \u001b[0;34m=\u001b[0m \u001b[0mpartition\u001b[0m\u001b[0;34m(\u001b[0m\u001b[0malliancematrix\u001b[0m\u001b[0;34m,\u001b[0m \u001b[0mk\u001b[0m\u001b[0;34m)\u001b[0m\u001b[0;34m\u001b[0m\u001b[0;34m\u001b[0m\u001b[0m\n\u001b[0;32m---> 18\u001b[0;31m     \u001b[0mytrain\u001b[0m\u001b[0;34m,\u001b[0m \u001b[0mytest\u001b[0m \u001b[0;34m=\u001b[0m \u001b[0mpartition\u001b[0m\u001b[0;34m(\u001b[0m\u001b[0my_true\u001b[0m\u001b[0;34m,\u001b[0m \u001b[0mk\u001b[0m\u001b[0;34m)\u001b[0m\u001b[0;34m\u001b[0m\u001b[0;34m\u001b[0m\u001b[0m\n\u001b[0m\u001b[1;32m     19\u001b[0m     \u001b[0mmodel\u001b[0m\u001b[0;34m.\u001b[0m\u001b[0mfit\u001b[0m\u001b[0;34m(\u001b[0m\u001b[0mxtrain\u001b[0m\u001b[0;34m,\u001b[0m \u001b[0mytrain\u001b[0m\u001b[0;34m)\u001b[0m  \u001b[0;31m# <--- This is the training/fitting/learning step\u001b[0m\u001b[0;34m\u001b[0m\u001b[0;34m\u001b[0m\u001b[0m\n\u001b[1;32m     20\u001b[0m     \u001b[0my_preds\u001b[0m \u001b[0;34m=\u001b[0m \u001b[0mmodel\u001b[0m\u001b[0;34m.\u001b[0m\u001b[0mpredict\u001b[0m\u001b[0;34m(\u001b[0m\u001b[0mxtest\u001b[0m\u001b[0;34m)\u001b[0m\u001b[0;34m\u001b[0m\u001b[0;34m\u001b[0m\u001b[0m\n",
      "\u001b[0;31mNameError\u001b[0m: name 'y_true' is not defined"
     ]
    }
   ],
   "source": [
    "#9 folds of 110, 1 fold of 106\n",
    "import matplotlib.pyplot as plt\n",
    "\n",
    "def partition(matrix, k):\n",
    "    if k!=10:\n",
    "        toberemoved = matrix[110*k:110*(k+1)]\n",
    "        matrix = np.delete(matrix, slice(110*k, 110*(k+1)),axis = 0)\n",
    "    else:\n",
    "        toberemoved = matrix[110*k:len(matrix)]\n",
    "        matrix = np.delete(matrix, slice(110*k, len(matrix)),axis = 0)\n",
    "    return matrix, toberemoved\n",
    "        \n",
    "        \n",
    "trainaccuracy = []\n",
    "testaccuracy = []\n",
    "for k in range (0,10):\n",
    "    xtrain, xtest = partition(alliancematrix, k)\n",
    "    ytrain, ytest = partition(y_true, k)\n",
    "    model.fit(xtrain, ytrain)  # <--- This is the training/fitting/learning step\n",
    "    y_preds = model.predict(xtest)\n",
    "    y_trpreds = model.predict(xtrain)\n",
    "    trainaccuracy.append(accuracy_score(ytrain, y_trpreds))\n",
    "    testaccuracy.append(accuracy_score(ytest, y_preds))\n",
    "\n",
    "for i in trainaccuracy:\n",
    "    print(i)\n",
    "for j in testaccuracy:\n",
    "    print(j)\n",
    "\n",
    "fig, axs = plt.subplots(1, 2, tight_layout=True)\n",
    "axs[0].set_title(\"Test Accuracy\")\n",
    "axs[0].hist(testaccuracy)\n",
    "axs[0].set_ylabel(\"frequency\")\n",
    "axs[0].set_xlabel(\"accuracy\")\n",
    "axs[1].set_title(\"Train Accuracy\")\n",
    "axs[1].hist(trainaccuracy)\n",
    "axs[1].set_ylabel(\"frequency\")\n",
    "axs[1].set_xlabel(\"accuracy\")"
   ]
  },
  {
   "cell_type": "markdown",
   "metadata": {},
   "source": [
    ">**Ex. 4.4.1**: Let's put our classifier to use!\n",
    "* Retrain your model on all of your data.\n",
    "* Create a team alliance representation of the ambiguous characters\n",
    "* Use the model the estimate the probability that each character is a villain (let's call this *villainness*). You can use the `.predict_proba` method on the model to get probability estimates rather than class assignments.\n",
    "* **Visualize the \"heroness\" distribution for all ambiguous characters**. Comment on the result."
   ]
  },
  {
   "cell_type": "markdown",
   "metadata": {},
   "source": [
    "### Week 5"
   ]
  },
  {
   "cell_type": "markdown",
   "metadata": {
    "ExecuteTime": {
     "end_time": "2017-08-23T14:01:10.834257Z",
     "start_time": "2017-08-23T14:01:10.826472Z"
    }
   },
   "source": [
    ">**Ex. 5.1.3**: Print the maximum entropy path of a decision tree.\n",
    ">\n",
    ">1. Implement the following pseudocode and print the output:<br><br>\n",
    ">Step 1. Find `team` that gives lowest split entropy for `data`. Print `team`.<br>\n",
    ">Step 2. Split `data` on `team`, to produce `data0` and `data1`. Print the entropy of each, as well as their weighted avg. entropy.<br>\n",
    ">Step 3. Overwrite the `data` variable with either `data0` or `data1`, depending on which has the highest entropy.<br>\n",
    ">Step 4. Stop if there are less than 5 datapoints in `data`. Otherwise start over from 1.<br><br>\n",
    ">My output looks [like this](http://ulfaslak.com/computational_analysis_of_big_data/exer_figures/example_6.2.3.1.png) for the first five splits.<br><br>\n",
    ">\n",
    ">2. Comment on decision path your code takes: How splits are there? Do you notice anything interesting about the final splits? Why do we choose to stop splitting before `data` get smaller than 5?\n",
    ">3. Train a `sklearn.tree.DecisionTreeClassifier` classifier on the dataset. Initiate the classifier with `criterion='entropy'`. What are the most important features of this classifier? How does this line up with the order of the order of splits you just printed (a comment is fine)?"
   ]
  },
  {
   "cell_type": "markdown",
   "metadata": {},
   "source": [
    "### Week 6"
   ]
  },
  {
   "cell_type": "markdown",
   "metadata": {},
   "source": [
    "> **Ex. 6.1.1**: Go to the `NetworkX` project's [tutorial page](https://networkx.github.io/documentation/stable/tutorial.html). Read the first few sections about nodes, edges and attributes. Write an example below where you create a graph, `G`, and then:\n",
    "1. add some nodes and edges to,\n",
    "2. print its nodes and edges\n",
    "3. delete a node, and\n",
    "4. plot it."
   ]
  },
  {
   "cell_type": "markdown",
   "metadata": {},
   "source": [
    "> **Ex. 6.1.3**: Another very famous type of synthetic network is the Barabási–Albert (BA) network.\n",
    "1. Describe what a BA network is and how to create one.\n",
    "2. On the [`NetworkX` documentations site](https://networkx.github.io/documentation/networkx-2.2/reference/generators.html), find a method you can use for generating a BA network. Create one with $N=100$ nodes and number of new edges from each new node $m=2$.\n",
    "3. Plot the network\n",
    "4. Visualize the [degree distribution](https://en.wikipedia.org/wiki/Degree_distribution) of your newly created BA graph.\n",
    "5. Explain the main difference(s) you observe, when comparing to the ER network.\n",
    "6. Are there other measures we could have used to describe the ER and BA networks further?"
   ]
  },
  {
   "cell_type": "markdown",
   "metadata": {},
   "source": [
    "> **Ex: 6.2.2**: Create a `networkx.Graph` that represents each partnership between characters, as an edge. Print the number of nodes, edges and average degree of the resulting network."
   ]
  },
  {
   "cell_type": "markdown",
   "metadata": {},
   "source": [
    "> **Ex: 6.2.3**: Plot the degree distribution of your character network. What type of random network does it resemble?"
   ]
  },
  {
   "cell_type": "markdown",
   "metadata": {},
   "source": [
    "> **Ex: 6.2.7**: Let's make a nice plot of the network.\n",
    "* Color the nodes by class. Try if you can to use blue for heroes, red for villains and yellow(ish) for ambiguous.\n",
    "* Scale the size of nodes by the square root of their degree.\n",
    "* Adjust the layout of the figure so it doesn't look too messy (e.g. edge line width, node line width, type of force-layout [I can recommend *neato*, but you have to install graphviz with conda to use it])\n",
    "* Do you see anything interesting? Get any new ideas for things that can be investigated?\n",
    "\n",
    "> ***PROTIP THOUGH***: *If you want to make a beautiful plot, I actually made [a tool](https://ulfaslak.com/works/network_styling_with_d3/index.html) for making pretty visualizations of networks. I'd be curious to see the Marvel network visualized in my tool. You can also launch networks into it directly from Python using the `netwulf` package (you can install it with pip). Just follow [this example](https://github.com/benmaier/netwulf). You can download the image and include it in the notebook as a link (which you have to host somewhere).*"
   ]
  }
 ],
 "metadata": {
  "kernelspec": {
   "display_name": "Python 3",
   "language": "python",
   "name": "python3"
  },
  "language_info": {
   "codemirror_mode": {
    "name": "ipython",
    "version": 3
   },
   "file_extension": ".py",
   "mimetype": "text/x-python",
   "name": "python",
   "nbconvert_exporter": "python",
   "pygments_lexer": "ipython3",
   "version": "3.7.1"
  },
  "toc": {
   "base_numbering": 1,
   "nav_menu": {},
   "number_sections": true,
   "sideBar": true,
   "skip_h1_title": false,
   "title_cell": "Table of Contents",
   "title_sidebar": "Contents",
   "toc_cell": false,
   "toc_position": {},
   "toc_section_display": true,
   "toc_window_display": false
  },
  "varInspector": {
   "cols": {
    "lenName": 16,
    "lenType": 16,
    "lenVar": 40
   },
   "kernels_config": {
    "python": {
     "delete_cmd_postfix": "",
     "delete_cmd_prefix": "del ",
     "library": "var_list.py",
     "varRefreshCmd": "print(var_dic_list())"
    },
    "r": {
     "delete_cmd_postfix": ") ",
     "delete_cmd_prefix": "rm(",
     "library": "var_list.r",
     "varRefreshCmd": "cat(var_dic_list()) "
    }
   },
   "types_to_exclude": [
    "module",
    "function",
    "builtin_function_or_method",
    "instance",
    "_Feature"
   ],
   "window_display": false
  }
 },
 "nbformat": 4,
 "nbformat_minor": 2
}
